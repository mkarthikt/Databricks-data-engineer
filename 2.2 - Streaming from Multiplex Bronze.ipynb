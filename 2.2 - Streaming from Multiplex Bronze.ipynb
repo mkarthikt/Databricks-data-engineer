{
 "cells": [
  {
   "cell_type": "code",
   "execution_count": 0,
   "metadata": {
    "application/vnd.databricks.v1+cell": {
     "cellMetadata": {
      "byteLimit": 2048000,
      "implicitDf": true,
      "rowLimit": 10000
     },
     "inputWidgets": {},
     "nuid": "9da260d6-33ff-401d-8e65-4fd10862e97f",
     "showTitle": false,
     "tableResultSettingsMap": {},
     "title": ""
    }
   },
   "outputs": [],
   "source": [
    "%sql\n",
    "select cast(key as string), cast(value as string)\n",
    "from raw_bronze_kakfa r\n",
    "where topic=\"orders\"\n",
    "limit 5"
   ]
  },
  {
   "cell_type": "code",
   "execution_count": 0,
   "metadata": {
    "application/vnd.databricks.v1+cell": {
     "cellMetadata": {
      "byteLimit": 2048000,
      "implicitDf": true,
      "rowLimit": 10000
     },
     "inputWidgets": {},
     "nuid": "f933145c-67db-4aad-8c73-5eb22438d48e",
     "showTitle": false,
     "tableResultSettingsMap": {},
     "title": ""
    }
   },
   "outputs": [],
   "source": [
    "%sql\n",
    "select v.* from (\n",
    "select from_json(cast(value as string), \"order_id string, order_timestamp Timestamp, customer_id string, quantity bigint, total bigint, books ARRAY<STRUCT<book_id string, quantity bigint, subtotal bigint>>\") v\n",
    "from raw_bronze_kakfa\n",
    "where topic=\"orders\")"
   ]
  },
  {
   "cell_type": "code",
   "execution_count": 0,
   "metadata": {
    "application/vnd.databricks.v1+cell": {
     "cellMetadata": {
      "byteLimit": 2048000,
      "rowLimit": 10000
     },
     "inputWidgets": {},
     "nuid": "f9ce2721-4706-49d2-b3a2-0fcb9f2a5ce0",
     "showTitle": false,
     "tableResultSettingsMap": {},
     "title": ""
    }
   },
   "outputs": [],
   "source": [
    "from pyspark.sql import functions as F\n",
    "\n",
    "json_schema = \"order_id string , order_timestamp Timestamp, customer_id string , quantity bigint, total bigint, books array<struct<book_id string,quantity bigint,subtotal bigint>>\"\n",
    "\n",
    "query =(spark.readStream\n",
    "             .table('raw_bronze_kakfa')\n",
    "             .filter(\"topic='orders'\")\n",
    "             .select(F.from_json(F.col(\"value\").cast(\"string\"), json_schema).alias(\"v\"))\n",
    "             .select(\"v.*\")\n",
    "        .writeStream\n",
    "             .option(\"checkpointLocation\",\"/Volumes/workspace/bookstore_eng_pro/checkpoints/orders_silver\")\n",
    "             .trigger(availableNow=True)\n",
    "             .table(\"orders_silver\")\n",
    "             )\n",
    "query.awaitTermination()"
   ]
  },
  {
   "cell_type": "code",
   "execution_count": 0,
   "metadata": {
    "application/vnd.databricks.v1+cell": {
     "cellMetadata": {
      "byteLimit": 2048000,
      "implicitDf": true,
      "rowLimit": 10000
     },
     "inputWidgets": {},
     "nuid": "220aba5e-739d-4379-a3e0-5908a07bb20b",
     "showTitle": false,
     "tableResultSettingsMap": {},
     "title": ""
    }
   },
   "outputs": [],
   "source": [
    "%sql\n",
    "select * from orders_silver limit 5"
   ]
  }
 ],
 "metadata": {
  "application/vnd.databricks.v1+notebook": {
   "computePreferences": null,
   "dashboards": [],
   "environmentMetadata": {
    "base_environment": "",
    "environment_version": "2"
   },
   "inputWidgetPreferences": null,
   "language": "python",
   "notebookMetadata": {
    "mostRecentlyExecutedCommandWithImplicitDF": {
     "commandId": 6030324284350741,
     "dataframes": [
      "_sqldf"
     ]
    },
    "pythonIndentUnit": 4
   },
   "notebookName": "2.2 - Streaming from Multiplex Bronze",
   "widgets": {}
  },
  "language_info": {
   "name": "python"
  }
 },
 "nbformat": 4,
 "nbformat_minor": 0
}
